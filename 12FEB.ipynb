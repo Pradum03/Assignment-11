{
 "cells": [
  {
   "cell_type": "markdown",
   "id": "cf13dc46-3cf6-4c5e-9f33-980aede9d027",
   "metadata": {},
   "source": [
    "ASSIGNMENT: 11"
   ]
  },
  {
   "cell_type": "markdown",
   "id": "8a241f48-f16c-431b-8e21-e1beec207dd6",
   "metadata": {},
   "source": [
    "1. What is an Exception in python? Write the difference between Exceptions and syntax errors?"
   ]
  },
  {
   "cell_type": "markdown",
   "id": "5c2ed517-3e92-4d70-a8ff-a8b3fb2298c9",
   "metadata": {},
   "source": [
    "In Python, an Exception is an error that occurs during the execution of a program, which disrupts the normal flow of the program's instructions. When an Exception occurs, Python will stop executing the program and raise an error message indicating what went wrong.\n",
    "\n",
    "Exceptions are different from syntax errors in that syntax errors occur when the Python interpreter cannot understand or parse the code due to a mistake in the syntax. In other words, syntax errors are caused by mistakes in the way the code is written, such as a missing colon, a typo, or a misplaced parenthesis. The interpreter will stop executing the code and raise a syntax error message indicating what went wrong.\n",
    "\n",
    "On the other hand, Exceptions are caused by logical errors or unexpected events that occur during program execution, such as trying to divide by zero, attempting to access a non-existent file, or accessing an index out of range. Exceptions are usually caused by runtime errors or external factors beyond the control of the programmer.\n",
    "\n",
    "In summary, the main difference between Exceptions and syntax errors is that syntax errors occur when the code is not written correctly, while Exceptions occur when the code is logically correct but encounters an unexpected event during runtime."
   ]
  },
  {
   "cell_type": "markdown",
   "id": "1e552834-3695-4c8c-8bbd-59cebda8cf47",
   "metadata": {},
   "source": [
    "2. . What happens when an exception is not handled? Explain with an example"
   ]
  },
  {
   "cell_type": "markdown",
   "id": "6418585f-5dd6-48e7-9f0d-0a11018268d5",
   "metadata": {},
   "source": [
    "When an exception is not handled in a Python program, it will propagate up the call stack until it reaches the top-level of the program, at which point the program will terminate and display an error message indicating the nature of the exception."
   ]
  },
  {
   "cell_type": "code",
   "execution_count": 6,
   "id": "7b9aa9d7-4452-426b-ba46-67f88c0acfd6",
   "metadata": {},
   "outputs": [
    {
     "name": "stdin",
     "output_type": "stream",
     "text": [
      "Enter a positive number:  -33\n"
     ]
    },
    {
     "ename": "ValueError",
     "evalue": "Number must be positive",
     "output_type": "error",
     "traceback": [
      "\u001b[0;31m---------------------------------------------------------------------------\u001b[0m",
      "\u001b[0;31mValueError\u001b[0m                                Traceback (most recent call last)",
      "Cell \u001b[0;32mIn[6], line 12\u001b[0m\n\u001b[1;32m      9\u001b[0m     \u001b[38;5;28mprint\u001b[39m(\u001b[38;5;124m\"\u001b[39m\u001b[38;5;124mThe positive number you entered is:\u001b[39m\u001b[38;5;124m\"\u001b[39m, number)\n\u001b[1;32m     11\u001b[0m \u001b[38;5;28;01mif\u001b[39;00m \u001b[38;5;18m__name__\u001b[39m \u001b[38;5;241m==\u001b[39m \u001b[38;5;124m'\u001b[39m\u001b[38;5;124m__main__\u001b[39m\u001b[38;5;124m'\u001b[39m:\n\u001b[0;32m---> 12\u001b[0m     \u001b[43mmain\u001b[49m\u001b[43m(\u001b[49m\u001b[43m)\u001b[49m\n",
      "Cell \u001b[0;32mIn[6], line 8\u001b[0m, in \u001b[0;36mmain\u001b[0;34m()\u001b[0m\n\u001b[1;32m      7\u001b[0m \u001b[38;5;28;01mdef\u001b[39;00m \u001b[38;5;21mmain\u001b[39m():\n\u001b[0;32m----> 8\u001b[0m     number \u001b[38;5;241m=\u001b[39m \u001b[43mget_positive_number\u001b[49m\u001b[43m(\u001b[49m\u001b[43m)\u001b[49m\n\u001b[1;32m      9\u001b[0m     \u001b[38;5;28mprint\u001b[39m(\u001b[38;5;124m\"\u001b[39m\u001b[38;5;124mThe positive number you entered is:\u001b[39m\u001b[38;5;124m\"\u001b[39m, number)\n",
      "Cell \u001b[0;32mIn[6], line 4\u001b[0m, in \u001b[0;36mget_positive_number\u001b[0;34m()\u001b[0m\n\u001b[1;32m      2\u001b[0m number \u001b[38;5;241m=\u001b[39m \u001b[38;5;28mint\u001b[39m(\u001b[38;5;28minput\u001b[39m(\u001b[38;5;124m\"\u001b[39m\u001b[38;5;124mEnter a positive number: \u001b[39m\u001b[38;5;124m\"\u001b[39m))\n\u001b[1;32m      3\u001b[0m \u001b[38;5;28;01mif\u001b[39;00m number \u001b[38;5;241m<\u001b[39m \u001b[38;5;241m0\u001b[39m:\n\u001b[0;32m----> 4\u001b[0m     \u001b[38;5;28;01mraise\u001b[39;00m \u001b[38;5;167;01mValueError\u001b[39;00m(\u001b[38;5;124m\"\u001b[39m\u001b[38;5;124mNumber must be positive\u001b[39m\u001b[38;5;124m\"\u001b[39m)\n\u001b[1;32m      5\u001b[0m \u001b[38;5;28;01mreturn\u001b[39;00m number\n",
      "\u001b[0;31mValueError\u001b[0m: Number must be positive"
     ]
    }
   ],
   "source": [
    "def get_positive_number():\n",
    "    number = int(input(\"Enter a positive number: \"))\n",
    "    if number < 0:\n",
    "        raise ValueError(\"Number must be positive\")\n",
    "    return number\n",
    "\n",
    "def main():\n",
    "    number = get_positive_number()\n",
    "    print(\"The positive number you entered is:\", number)\n",
    "\n",
    "if __name__ == '__main__':\n",
    "    main()\n"
   ]
  },
  {
   "cell_type": "markdown",
   "id": "df0dbd9b-5ce3-4fad-b03e-fe376b09a98f",
   "metadata": {},
   "source": [
    "3.  Which Python statements are used to catch and handle the exception? explain with example.\n"
   ]
  },
  {
   "cell_type": "markdown",
   "id": "5502fcee-c6d2-4aa4-8536-2d7acc9a3495",
   "metadata": {},
   "source": [
    "In Python, the try-except block is used to catch and handle exceptions. The try block contains the code that might raise an exception, and the except block contains the code that handles the exception."
   ]
  },
  {
   "cell_type": "code",
   "execution_count": 7,
   "id": "9522ed6c-2f92-4600-90b2-d5e1fa714ee3",
   "metadata": {},
   "outputs": [
    {
     "name": "stdout",
     "output_type": "stream",
     "text": [
      "Error: Division by zero!\n",
      "The result of the division is: 5.0\n"
     ]
    }
   ],
   "source": [
    "def divide(x, y):\n",
    "    try:\n",
    "        result = x / y\n",
    "        print(\"The result of the division is:\", result)\n",
    "    except ZeroDivisionError:\n",
    "        print(\"Error: Division by zero!\")\n",
    "\n",
    "divide(10, 0)\n",
    "divide(10, 2)\n"
   ]
  },
  {
   "cell_type": "markdown",
   "id": "9e6d5475-b7f2-4275-976d-069057cb5029",
   "metadata": {},
   "source": [
    "4. Explain with example:\n",
    "a) try and else\n",
    "b) raise\n",
    "c) finally\n"
   ]
  },
  {
   "cell_type": "markdown",
   "id": "5bc99370-7c72-4a66-8e75-f24361e3f707",
   "metadata": {},
   "source": [
    "In Python, we can use the else block with the try block to specify a block of code to be executed if no exceptions are raised in the try block"
   ]
  },
  {
   "cell_type": "code",
   "execution_count": 8,
   "id": "c4203b17-9df8-486d-b55d-9a9669f60b34",
   "metadata": {},
   "outputs": [
    {
     "name": "stdin",
     "output_type": "stream",
     "text": [
      "Enter a number:  1\n",
      "Enter another number:  0\n"
     ]
    },
    {
     "name": "stdout",
     "output_type": "stream",
     "text": [
      "Error: Division by zero!\n"
     ]
    }
   ],
   "source": [
    "try:\n",
    "    x = int(input(\"Enter a number: \"))\n",
    "    y = int(input(\"Enter another number: \"))\n",
    "    result = x / y\n",
    "except ValueError:\n",
    "    print(\"Error: Invalid input!\")\n",
    "except ZeroDivisionError:\n",
    "    print(\"Error: Division by zero!\")\n",
    "else:\n",
    "    print(\"The result of the division is:\", result)\n"
   ]
  },
  {
   "cell_type": "markdown",
   "id": "ea50f9be-19e9-4cbe-89df-4ba44f6f3e0c",
   "metadata": {},
   "source": [
    "In Python, the raise keyword is used to manually raise an exception. We can use this to create our own custom exceptions or to re-raise an exception with additional information. "
   ]
  },
  {
   "cell_type": "code",
   "execution_count": 9,
   "id": "fcee44f0-36d8-4e12-a0a5-1d4889646ef8",
   "metadata": {},
   "outputs": [
    {
     "name": "stdout",
     "output_type": "stream",
     "text": [
      "Age must be greater than or equal to 18\n"
     ]
    }
   ],
   "source": [
    "def check_age(age):\n",
    "    if age < 18:\n",
    "        raise ValueError(\"Age must be greater than or equal to 18\")\n",
    "    print(\"You are eligible to vote!\")\n",
    "\n",
    "try:\n",
    "    check_age(15)\n",
    "except ValueError as e:\n",
    "    print(e)\n"
   ]
  },
  {
   "cell_type": "markdown",
   "id": "3dc8b433-e448-4694-a860-aafe3b7b5a25",
   "metadata": {},
   "source": [
    "In Python, the finally block is used to specify a block of code that will be executed regardless of whether an exception is raised or not. This is useful for releasing resources or cleaning up after an operation"
   ]
  },
  {
   "cell_type": "code",
   "execution_count": 11,
   "id": "398c6bcd-073c-45ab-87a2-de677e73a41c",
   "metadata": {},
   "outputs": [
    {
     "name": "stdout",
     "output_type": "stream",
     "text": [
      "Error: File not found!\n"
     ]
    }
   ],
   "source": [
    "try:\n",
    "    f = open(\"TEST.txt\", \"r\")\n",
    "    print(f.read())\n",
    "except FileNotFoundError:\n",
    "    print(\"Error: File not found!\")\n",
    "finally:\n",
    "    f.close()\n"
   ]
  },
  {
   "cell_type": "markdown",
   "id": "c7023f31-399c-4283-8f15-3fc195066512",
   "metadata": {},
   "source": [
    "5. What are custom exceptions in python? Why do we need custom exceptions? Explain with example"
   ]
  },
  {
   "cell_type": "markdown",
   "id": "30d71998-637a-4bef-85ea-2b1a99e27a8b",
   "metadata": {},
   "source": [
    "In Python, custom exceptions are exceptions that are defined by the user. These exceptions are created by inheriting from the built-in Exception class or one of its subclasses. Custom exceptions are used to represent errors or exceptional situations that are specific to the application or domain.\n",
    "\n",
    "We need custom exceptions in Python because they allow us to define our own error types that are more specific and meaningful than the built-in exceptions. Custom exceptions help in better structuring of the code and make it easier to understand and maintain. They also provide a clear and standardized way of handling application-specific errors."
   ]
  },
  {
   "cell_type": "code",
   "execution_count": 12,
   "id": "21ce8e59-f9c0-4367-a5c5-06de1776fa77",
   "metadata": {},
   "outputs": [
    {
     "name": "stdout",
     "output_type": "stream",
     "text": [
      "My Custom Exception: Input value must be positive!\n"
     ]
    }
   ],
   "source": [
    "class MyCustomException(Exception):\n",
    "    def __init__(self, message):\n",
    "        self.message = message\n",
    "\n",
    "    def __str__(self):\n",
    "        return f\"My Custom Exception: {self.message}\"\n",
    "def check_input(value):\n",
    "    if value < 0:\n",
    "        raise MyCustomException(\"Input value must be positive!\")\n",
    "    else:\n",
    "        print(\"Valid input!\")\n",
    "\n",
    "try:\n",
    "    check_input(-10)\n",
    "except MyCustomException as e:\n",
    "    print(e)\n"
   ]
  },
  {
   "cell_type": "markdown",
   "id": "4b463e48-e297-4cf3-ba7c-ae46447215f5",
   "metadata": {},
   "source": [
    "6."
   ]
  },
  {
   "cell_type": "code",
   "execution_count": 13,
   "id": "2aedc504-99c1-469c-9f72-ba22a34a5e9d",
   "metadata": {},
   "outputs": [
    {
     "name": "stdout",
     "output_type": "stream",
     "text": [
      "Invalid username!\n"
     ]
    }
   ],
   "source": [
    "class InvalidUsernameError(Exception):\n",
    "    pass\n",
    "\n",
    "class InvalidPasswordError(Exception):\n",
    "    pass\n",
    "\n",
    "def login(username, password):\n",
    "    if username != \"admin\":\n",
    "        raise InvalidUsernameError(\"Invalid username!\")\n",
    "    elif password != \"password\":\n",
    "        raise InvalidPasswordError(\"Invalid password!\")\n",
    "    else:\n",
    "        print(\"Login successful!\")\n",
    "\n",
    "try:\n",
    "    login(\"john\", \"password\")\n",
    "except InvalidUsernameError as e:\n",
    "    print(e)\n",
    "except InvalidPasswordError as e:\n",
    "    print(e)\n"
   ]
  },
  {
   "cell_type": "code",
   "execution_count": null,
   "id": "40aa6011-05a1-49ce-bbc3-2b56ba0adb57",
   "metadata": {},
   "outputs": [],
   "source": []
  }
 ],
 "metadata": {
  "kernelspec": {
   "display_name": "Python 3 (ipykernel)",
   "language": "python",
   "name": "python3"
  },
  "language_info": {
   "codemirror_mode": {
    "name": "ipython",
    "version": 3
   },
   "file_extension": ".py",
   "mimetype": "text/x-python",
   "name": "python",
   "nbconvert_exporter": "python",
   "pygments_lexer": "ipython3",
   "version": "3.10.8"
  }
 },
 "nbformat": 4,
 "nbformat_minor": 5
}
